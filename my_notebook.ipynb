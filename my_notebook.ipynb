{
  "cells": [
    {
      "cell_type": "markdown",
      "metadata": {
        "id": "view-in-github",
        "colab_type": "text"
      },
      "source": [
        "<a href=\"https://colab.research.google.com/github/mehdi780311/neural-network-for-occupational-disease-prediction/blob/main/my_notebook.ipynb\" target=\"_parent\"><img src=\"https://colab.research.google.com/assets/colab-badge.svg\" alt=\"Open In Colab\"/></a>"
      ]
    },
    {
      "cell_type": "markdown",
      "source": [
        "1.وارد کردن کتابخانه‌های لازم"
      ],
      "metadata": {
        "id": "0UI1POR74rSR"
      },
      "id": "0UI1POR74rSR"
    },
    {
      "cell_type": "code",
      "source": [
        "import pandas as pd\n",
        "import numpy as np\n",
        "from sklearn.model_selection import train_test_split\n",
        "from sklearn.preprocessing import MinMaxScaler\n",
        "import tensorflow as tf\n",
        "from tensorflow import keras\n",
        "from keras import layers\n",
        "from keras.layers import Input\n",
        "import matplotlib.pyplot as plt"
      ],
      "metadata": {
        "id": "k4xXhnnE4w_I"
      },
      "id": "k4xXhnnE4w_I",
      "execution_count": 73,
      "outputs": []
    },
    {
      "cell_type": "markdown",
      "source": [
        "2. ساخت یک مجموعه داده نمونه با پانداز\n",
        "(در یک پروژه واقعی، این داده‌ها معمولا از یک فایل اکسل یا CSV خوانده می‌شود)"
      ],
      "metadata": {
        "id": "O1QsQeLc4-7W"
      },
      "id": "O1QsQeLc4-7W"
    },
    {
      "cell_type": "code",
      "source": [
        "data = {\n",
        "    'age': [25, 45, 38, 52, np.nan, 29], # np.nan یک مقدار گمشده است\n",
        "    'job_title': ['joshkar', 'nasaaj', 'kargar_madan', 'joshkar', 'nasaaj', 'kargar_madan'],\n",
        "    'exposure_level': [0.8, 1.2, 2.5, 0.9, 1.5, 2.8],\n",
        "    'has_disease': [0, 1, 1, 0, 1, 1] # 0 = سالم, 1 = بیمار\n",
        "}\n",
        "df = pd.DataFrame(data)\n",
        "\n",
        "print(\"--- داده‌های خام اولیه ---\")\n",
        "print(df)\n",
        "print(\"\\n\" + \"=\"*30 + \"\\n\")"
      ],
      "metadata": {
        "colab": {
          "base_uri": "https://localhost:8080/"
        },
        "id": "mqO9tVpp5A9_",
        "outputId": "b9cc7c07-f064-489b-8cb6-da559dcb6068"
      },
      "id": "mqO9tVpp5A9_",
      "execution_count": 65,
      "outputs": [
        {
          "output_type": "stream",
          "name": "stdout",
          "text": [
            "--- داده‌های خام اولیه ---\n",
            "    age     job_title  exposure_level  has_disease\n",
            "0  25.0       joshkar             0.8            0\n",
            "1  45.0        nasaaj             1.2            1\n",
            "2  38.0  kargar_madan             2.5            1\n",
            "3  52.0       joshkar             0.9            0\n",
            "4   NaN        nasaaj             1.5            1\n",
            "5  29.0  kargar_madan             2.8            1\n",
            "\n",
            "==============================\n",
            "\n"
          ]
        }
      ]
    },
    {
      "cell_type": "markdown",
      "source": [
        "**شروع مراحل پیش‌پردازش **"
      ],
      "metadata": {
        "id": "Ml0aPGDk5aed"
      },
      "id": "Ml0aPGDk5aed"
    },
    {
      "cell_type": "markdown",
      "source": [
        "3. مدیریت مقادیر گمشده: سن خالی را با میانگین سن بقیه پر می‌کنیم"
      ],
      "metadata": {
        "id": "gxd0QBd350Qt"
      },
      "id": "gxd0QBd350Qt"
    },
    {
      "cell_type": "code",
      "source": [
        "mean_age = df['age'].mean()\n",
        "df['age'].fillna(mean_age, inplace=True)\n",
        "df['age'] = df['age'].astype(int)"
      ],
      "metadata": {
        "colab": {
          "base_uri": "https://localhost:8080/"
        },
        "id": "YUWp-m8B5zvt",
        "outputId": "807a96dd-7286-4c53-80b5-cc9145bf3d1e"
      },
      "id": "YUWp-m8B5zvt",
      "execution_count": 37,
      "outputs": [
        {
          "output_type": "stream",
          "name": "stderr",
          "text": [
            "/tmp/ipython-input-913701135.py:2: FutureWarning: A value is trying to be set on a copy of a DataFrame or Series through chained assignment using an inplace method.\n",
            "The behavior will change in pandas 3.0. This inplace method will never work because the intermediate object on which we are setting values always behaves as a copy.\n",
            "\n",
            "For example, when doing 'df[col].method(value, inplace=True)', try using 'df.method({col: value}, inplace=True)' or df[col] = df[col].method(value) instead, to perform the operation inplace on the original object.\n",
            "\n",
            "\n",
            "  df['age'].fillna(mean_age, inplace=True)\n"
          ]
        }
      ]
    },
    {
      "cell_type": "markdown",
      "source": [
        "4. کدگذاری داده‌های متنی: ستون شغل را به ستون‌های عددی تبدیل می‌کنیم"
      ],
      "metadata": {
        "id": "xnvAcLY572tq"
      },
      "id": "xnvAcLY572tq"
    },
    {
      "cell_type": "code",
      "source": [
        "df_encoded = pd.get_dummies(df, columns=['job_title'])\n",
        "\n",
        "print(\"--- داده‌های تمیز و کدگذاری شده ---\")\n",
        "print(df_encoded)\n",
        "print(\"\\n\" + \"=\"*30 + \"\\n\")"
      ],
      "metadata": {
        "colab": {
          "base_uri": "https://localhost:8080/"
        },
        "id": "A6ECeW4979rK",
        "outputId": "4cc8cdaa-f0f2-44eb-f1ec-82944cc9b69a"
      },
      "id": "A6ECeW4979rK",
      "execution_count": 52,
      "outputs": [
        {
          "output_type": "stream",
          "name": "stdout",
          "text": [
            "--- داده‌های تمیز و کدگذاری شده ---\n",
            "   age  exposure_level  has_disease  job_title_joshkar  \\\n",
            "0   25             0.8            0               True   \n",
            "1   45             1.2            1              False   \n",
            "2   38             2.5            1              False   \n",
            "3   52             0.9            0               True   \n",
            "4   37             1.5            1              False   \n",
            "5   29             2.8            1              False   \n",
            "\n",
            "   job_title_kargar_madan  job_title_nasaaj  \n",
            "0                   False             False  \n",
            "1                   False              True  \n",
            "2                    True             False  \n",
            "3                   False             False  \n",
            "4                   False              True  \n",
            "5                    True             False  \n",
            "\n",
            "==============================\n",
            "\n"
          ]
        }
      ]
    },
    {
      "cell_type": "markdown",
      "source": [
        "5. جدا کردن ویژگی‌ها (X) از ستون هدف (y)"
      ],
      "metadata": {
        "id": "pU7U3qwJ_nO1"
      },
      "id": "pU7U3qwJ_nO1"
    },
    {
      "cell_type": "code",
      "metadata": {
        "id": "A6ECe4979rK",
        "colab": {
          "base_uri": "https://localhost:8080/"
        },
        "outputId": "24a23169-f8d0-437d-e597-6ca4b3a33159"
      },
      "source": [
        "X = df_encoded.drop('has_disease', axis=1)\n",
        "y = df_encoded['has_disease']\n",
        "#print(X)\n",
        "print(y)"
      ],
      "id": "A6ECe4979rK",
      "execution_count": 68,
      "outputs": [
        {
          "output_type": "stream",
          "name": "stdout",
          "text": [
            "0    0\n",
            "1    1\n",
            "2    1\n",
            "3    0\n",
            "4    1\n",
            "5    1\n",
            "Name: has_disease, dtype: int64\n"
          ]
        }
      ]
    },
    {
      "cell_type": "markdown",
      "source": [
        "6. مقیاس‌بندی ویژگی‌ها (X) در بازه 0 تا 1"
      ],
      "metadata": {
        "id": "pZ2mHF_v_28M"
      },
      "id": "pZ2mHF_v_28M"
    },
    {
      "cell_type": "code",
      "source": [
        "scaler = MinMaxScaler()\n",
        "X_scaled = scaler.fit_transform(X)\n",
        "print(X_scaled)"
      ],
      "metadata": {
        "colab": {
          "base_uri": "https://localhost:8080/"
        },
        "id": "LTjU954a_4R_",
        "outputId": "6a7a48a2-4f1d-4687-e370-1acb7238c667"
      },
      "id": "LTjU954a_4R_",
      "execution_count": 70,
      "outputs": [
        {
          "output_type": "stream",
          "name": "stdout",
          "text": [
            "[[0.         0.         1.         0.         0.        ]\n",
            " [0.74074074 0.2        0.         0.         1.        ]\n",
            " [0.48148148 0.85       0.         1.         0.        ]\n",
            " [1.         0.05       1.         0.         0.        ]\n",
            " [0.44444444 0.35       0.         0.         1.        ]\n",
            " [0.14814815 1.         0.         1.         0.        ]]\n"
          ]
        }
      ]
    },
    {
      "cell_type": "markdown",
      "source": [
        " 7. تقسیم نهایی داده به دو بخش آموزشی و آزمایشی\n",
        "70% برای آموزش، 30% برای تست"
      ],
      "metadata": {
        "id": "wP7JsTO4AIk7"
      },
      "id": "wP7JsTO4AIk7"
    },
    {
      "cell_type": "code",
      "source": [
        "X_train, X_test, y_train, y_test = train_test_split(X_scaled, y, test_size=0.3, random_state=42)\n",
        "print(f\"تعداد نمونه‌های آموزشی: {X_train.shape[0]}\")\n",
        "print(f\"تعداد نمونه‌های آزمایشی: {X_test.shape[0]}\")"
      ],
      "metadata": {
        "colab": {
          "base_uri": "https://localhost:8080/"
        },
        "id": "oJSJJYAVAOdE",
        "outputId": "5fd4f30b-9b87-4c9a-ce0f-aaa8e280fcbe"
      },
      "id": "oJSJJYAVAOdE",
      "execution_count": 55,
      "outputs": [
        {
          "output_type": "stream",
          "name": "stdout",
          "text": [
            "تعداد نمونه‌های آموزشی: 4\n",
            "تعداد نمونه‌های آزمایشی: 2\n"
          ]
        }
      ]
    },
    {
      "cell_type": "markdown",
      "source": [
        " ساخت یک مدل ترتیبی (Sequential) خالی\n",
        " این مدل در حال حاضر مثل یک ظرف خالی است که باید لایه‌ها را به آن اضافه کنیم"
      ],
      "metadata": {
        "id": "cfJOjS0_Ac-j"
      },
      "id": "cfJOjS0_Ac-j"
    },
    {
      "cell_type": "code",
      "source": [
        "model = keras.Sequential()\n",
        "print(\"مدل Sequential با موفقیت ساخته شد! این مدل فعلاً خالی است.\")"
      ],
      "metadata": {
        "colab": {
          "base_uri": "https://localhost:8080/"
        },
        "id": "CeOcezLuAzT6",
        "outputId": "f6a56184-7ea2-4582-de0e-e78d768c0819"
      },
      "id": "CeOcezLuAzT6",
      "execution_count": 56,
      "outputs": [
        {
          "output_type": "stream",
          "name": "stdout",
          "text": [
            "مدل Sequential با موفقیت ساخته شد! این مدل فعلاً خالی است.\n"
          ]
        }
      ]
    },
    {
      "cell_type": "markdown",
      "source": [
        "تعداد ویژگی‌های ورودی ما (تعداد ستون‌های داده‌های X)\n",
        "این پارامتر فقط برای لایه اول لازم است"
      ],
      "metadata": {
        "id": "Y9NiJTXMIUNG"
      },
      "id": "Y9NiJTXMIUNG"
    },
    {
      "cell_type": "code",
      "source": [
        "input_dim = X_train.shape[1]"
      ],
      "metadata": {
        "id": "UZk6H7sVIbSG"
      },
      "id": "UZk6H7sVIbSG",
      "execution_count": 57,
      "outputs": []
    },
    {
      "cell_type": "markdown",
      "source": [
        " اضافه کردن لایه ورودی و اولین لایه پنهان"
      ],
      "metadata": {
        "id": "M683TFgYIl4V"
      },
      "id": "M683TFgYIl4V"
    },
    {
      "cell_type": "code",
      "source": [
        "model.add(layers.Dense(units=16, activation='relu', input_shape=(input_dim,)))\n"
      ],
      "metadata": {
        "colab": {
          "base_uri": "https://localhost:8080/"
        },
        "id": "dZXzR7KeIoPt",
        "outputId": "f96a8848-e8de-4fd4-9a6f-62ec07e08e70"
      },
      "id": "dZXzR7KeIoPt",
      "execution_count": 58,
      "outputs": [
        {
          "output_type": "stream",
          "name": "stderr",
          "text": [
            "/usr/local/lib/python3.11/dist-packages/keras/src/layers/core/dense.py:93: UserWarning: Do not pass an `input_shape`/`input_dim` argument to a layer. When using Sequential models, prefer using an `Input(shape)` object as the first layer in the model instead.\n",
            "  super().__init__(activity_regularizer=activity_regularizer, **kwargs)\n"
          ]
        }
      ]
    },
    {
      "cell_type": "markdown",
      "source": [
        "# اضافه کردن یک لایه پنهان دیگر\n"
      ],
      "metadata": {
        "id": "m3uRU4aWK-5K"
      },
      "id": "m3uRU4aWK-5K"
    },
    {
      "cell_type": "code",
      "source": [
        "model.add(layers.Dense(units=8, activation='relu'))"
      ],
      "metadata": {
        "id": "8NX25_nHLDA5"
      },
      "id": "8NX25_nHLDA5",
      "execution_count": 59,
      "outputs": []
    },
    {
      "cell_type": "markdown",
      "source": [
        "\n",
        "# اضافه کردن لایه خروجی\n",
        "# چون پیش‌بینی ما دو حالته است (بیمار یا سالم)، از 1 نورون با تابع sigmoid استفاده می‌کنیم"
      ],
      "metadata": {
        "id": "I2GyjPtrLVvx"
      },
      "id": "I2GyjPtrLVvx"
    },
    {
      "cell_type": "code",
      "source": [
        "model.add(layers.Dense(units=1, activation='sigmoid'))"
      ],
      "metadata": {
        "id": "bLB0JbrqLWyw"
      },
      "id": "bLB0JbrqLWyw",
      "execution_count": 60,
      "outputs": []
    },
    {
      "cell_type": "markdown",
      "source": [
        "# نمایش خلاصه‌ای از معماری مدل ساخته شده\n"
      ],
      "metadata": {
        "id": "s8mH074-Ldzo"
      },
      "id": "s8mH074-Ldzo"
    },
    {
      "cell_type": "code",
      "source": [
        "model.summary()"
      ],
      "metadata": {
        "colab": {
          "base_uri": "https://localhost:8080/",
          "height": 238
        },
        "id": "ZHa28wmaLeox",
        "outputId": "6ea62128-c698-40e4-c6b2-771c5e1e753d"
      },
      "id": "ZHa28wmaLeox",
      "execution_count": 61,
      "outputs": [
        {
          "output_type": "display_data",
          "data": {
            "text/plain": [
              "\u001b[1mModel: \"sequential_2\"\u001b[0m\n"
            ],
            "text/html": [
              "<pre style=\"white-space:pre;overflow-x:auto;line-height:normal;font-family:Menlo,'DejaVu Sans Mono',consolas,'Courier New',monospace\"><span style=\"font-weight: bold\">Model: \"sequential_2\"</span>\n",
              "</pre>\n"
            ]
          },
          "metadata": {}
        },
        {
          "output_type": "display_data",
          "data": {
            "text/plain": [
              "┏━━━━━━━━━━━━━━━━━━━━━━━━━━━━━━━━━┳━━━━━━━━━━━━━━━━━━━━━━━━┳━━━━━━━━━━━━━━━┓\n",
              "┃\u001b[1m \u001b[0m\u001b[1mLayer (type)                   \u001b[0m\u001b[1m \u001b[0m┃\u001b[1m \u001b[0m\u001b[1mOutput Shape          \u001b[0m\u001b[1m \u001b[0m┃\u001b[1m \u001b[0m\u001b[1m      Param #\u001b[0m\u001b[1m \u001b[0m┃\n",
              "┡━━━━━━━━━━━━━━━━━━━━━━━━━━━━━━━━━╇━━━━━━━━━━━━━━━━━━━━━━━━╇━━━━━━━━━━━━━━━┩\n",
              "│ dense_10 (\u001b[38;5;33mDense\u001b[0m)                │ (\u001b[38;5;45mNone\u001b[0m, \u001b[38;5;34m16\u001b[0m)             │            \u001b[38;5;34m96\u001b[0m │\n",
              "├─────────────────────────────────┼────────────────────────┼───────────────┤\n",
              "│ dense_11 (\u001b[38;5;33mDense\u001b[0m)                │ (\u001b[38;5;45mNone\u001b[0m, \u001b[38;5;34m8\u001b[0m)              │           \u001b[38;5;34m136\u001b[0m │\n",
              "├─────────────────────────────────┼────────────────────────┼───────────────┤\n",
              "│ dense_12 (\u001b[38;5;33mDense\u001b[0m)                │ (\u001b[38;5;45mNone\u001b[0m, \u001b[38;5;34m1\u001b[0m)              │             \u001b[38;5;34m9\u001b[0m │\n",
              "└─────────────────────────────────┴────────────────────────┴───────────────┘\n"
            ],
            "text/html": [
              "<pre style=\"white-space:pre;overflow-x:auto;line-height:normal;font-family:Menlo,'DejaVu Sans Mono',consolas,'Courier New',monospace\">┏━━━━━━━━━━━━━━━━━━━━━━━━━━━━━━━━━┳━━━━━━━━━━━━━━━━━━━━━━━━┳━━━━━━━━━━━━━━━┓\n",
              "┃<span style=\"font-weight: bold\"> Layer (type)                    </span>┃<span style=\"font-weight: bold\"> Output Shape           </span>┃<span style=\"font-weight: bold\">       Param # </span>┃\n",
              "┡━━━━━━━━━━━━━━━━━━━━━━━━━━━━━━━━━╇━━━━━━━━━━━━━━━━━━━━━━━━╇━━━━━━━━━━━━━━━┩\n",
              "│ dense_10 (<span style=\"color: #0087ff; text-decoration-color: #0087ff\">Dense</span>)                │ (<span style=\"color: #00d7ff; text-decoration-color: #00d7ff\">None</span>, <span style=\"color: #00af00; text-decoration-color: #00af00\">16</span>)             │            <span style=\"color: #00af00; text-decoration-color: #00af00\">96</span> │\n",
              "├─────────────────────────────────┼────────────────────────┼───────────────┤\n",
              "│ dense_11 (<span style=\"color: #0087ff; text-decoration-color: #0087ff\">Dense</span>)                │ (<span style=\"color: #00d7ff; text-decoration-color: #00d7ff\">None</span>, <span style=\"color: #00af00; text-decoration-color: #00af00\">8</span>)              │           <span style=\"color: #00af00; text-decoration-color: #00af00\">136</span> │\n",
              "├─────────────────────────────────┼────────────────────────┼───────────────┤\n",
              "│ dense_12 (<span style=\"color: #0087ff; text-decoration-color: #0087ff\">Dense</span>)                │ (<span style=\"color: #00d7ff; text-decoration-color: #00d7ff\">None</span>, <span style=\"color: #00af00; text-decoration-color: #00af00\">1</span>)              │             <span style=\"color: #00af00; text-decoration-color: #00af00\">9</span> │\n",
              "└─────────────────────────────────┴────────────────────────┴───────────────┘\n",
              "</pre>\n"
            ]
          },
          "metadata": {}
        },
        {
          "output_type": "display_data",
          "data": {
            "text/plain": [
              "\u001b[1m Total params: \u001b[0m\u001b[38;5;34m241\u001b[0m (964.00 B)\n"
            ],
            "text/html": [
              "<pre style=\"white-space:pre;overflow-x:auto;line-height:normal;font-family:Menlo,'DejaVu Sans Mono',consolas,'Courier New',monospace\"><span style=\"font-weight: bold\"> Total params: </span><span style=\"color: #00af00; text-decoration-color: #00af00\">241</span> (964.00 B)\n",
              "</pre>\n"
            ]
          },
          "metadata": {}
        },
        {
          "output_type": "display_data",
          "data": {
            "text/plain": [
              "\u001b[1m Trainable params: \u001b[0m\u001b[38;5;34m241\u001b[0m (964.00 B)\n"
            ],
            "text/html": [
              "<pre style=\"white-space:pre;overflow-x:auto;line-height:normal;font-family:Menlo,'DejaVu Sans Mono',consolas,'Courier New',monospace\"><span style=\"font-weight: bold\"> Trainable params: </span><span style=\"color: #00af00; text-decoration-color: #00af00\">241</span> (964.00 B)\n",
              "</pre>\n"
            ]
          },
          "metadata": {}
        },
        {
          "output_type": "display_data",
          "data": {
            "text/plain": [
              "\u001b[1m Non-trainable params: \u001b[0m\u001b[38;5;34m0\u001b[0m (0.00 B)\n"
            ],
            "text/html": [
              "<pre style=\"white-space:pre;overflow-x:auto;line-height:normal;font-family:Menlo,'DejaVu Sans Mono',consolas,'Courier New',monospace\"><span style=\"font-weight: bold\"> Non-trainable params: </span><span style=\"color: #00af00; text-decoration-color: #00af00\">0</span> (0.00 B)\n",
              "</pre>\n"
            ]
          },
          "metadata": {}
        }
      ]
    },
    {
      "cell_type": "code",
      "source": [
        "model.compile(optimizer='adam',\n",
        "              loss='binary_crossentropy',\n",
        "              metrics=['accuracy'])\n",
        "\n",
        "print(\"مدل با موفقیت کامپایل شد و آماده آموزش است!\")"
      ],
      "metadata": {
        "colab": {
          "base_uri": "https://localhost:8080/"
        },
        "id": "j0l2_Oh4NbvG",
        "outputId": "31c7140b-4e6f-479d-88fe-7cb40904bc15"
      },
      "id": "j0l2_Oh4NbvG",
      "execution_count": 62,
      "outputs": [
        {
          "output_type": "stream",
          "name": "stdout",
          "text": [
            "مدل با موفقیت کامپایل شد و آماده آموزش است!\n"
          ]
        }
      ]
    },
    {
      "cell_type": "code",
      "source": [
        "print(\"--- شروع فرآیند آموزش مدل ---\")\n",
        "\n",
        "# آموزش مدل با داده‌های آموزشی\n",
        "# ما به مدل می‌گوییم ۲۰ بار کل داده‌ها را مرور کن\n",
        "history = model.fit(X_train, y_train,\n",
        "                    epochs=20,\n",
        "                    batch_size=1) # در هر مرحله ۱ نمونه را ببین (چون داده ما کوچک است)\n",
        "\n",
        "\n",
        "print(\"\\nآموزش مدل به پایان رسید!\")"
      ],
      "metadata": {
        "colab": {
          "base_uri": "https://localhost:8080/"
        },
        "id": "ObCH5Mn5Nojt",
        "outputId": "af02a16e-f7d4-49bc-da63-eaf3d72e3942"
      },
      "id": "ObCH5Mn5Nojt",
      "execution_count": 63,
      "outputs": [
        {
          "output_type": "stream",
          "name": "stdout",
          "text": [
            "--- شروع فرآیند آموزش مدل ---\n",
            "Epoch 1/20\n",
            "\u001b[1m4/4\u001b[0m \u001b[32m━━━━━━━━━━━━━━━━━━━━\u001b[0m\u001b[37m\u001b[0m \u001b[1m1s\u001b[0m 9ms/step - accuracy: 0.5333 - loss: 0.6906   \n",
            "Epoch 2/20\n",
            "\u001b[1m4/4\u001b[0m \u001b[32m━━━━━━━━━━━━━━━━━━━━\u001b[0m\u001b[37m\u001b[0m \u001b[1m0s\u001b[0m 9ms/step - accuracy: 0.9000 - loss: 0.6213 \n",
            "Epoch 3/20\n",
            "\u001b[1m4/4\u001b[0m \u001b[32m━━━━━━━━━━━━━━━━━━━━\u001b[0m\u001b[37m\u001b[0m \u001b[1m0s\u001b[0m 9ms/step - accuracy: 0.5333 - loss: 0.6856     \n",
            "Epoch 4/20\n",
            "\u001b[1m4/4\u001b[0m \u001b[32m━━━━━━━━━━━━━━━━━━━━\u001b[0m\u001b[37m\u001b[0m \u001b[1m0s\u001b[0m 9ms/step - accuracy: 0.7333 - loss: 0.6378 \n",
            "Epoch 5/20\n",
            "\u001b[1m4/4\u001b[0m \u001b[32m━━━━━━━━━━━━━━━━━━━━\u001b[0m\u001b[37m\u001b[0m \u001b[1m0s\u001b[0m 9ms/step - accuracy: 0.8333 - loss: 0.6224 \n",
            "Epoch 6/20\n",
            "\u001b[1m4/4\u001b[0m \u001b[32m━━━━━━━━━━━━━━━━━━━━\u001b[0m\u001b[37m\u001b[0m \u001b[1m0s\u001b[0m 9ms/step - accuracy: 0.8333 - loss: 0.5986 \n",
            "Epoch 7/20\n",
            "\u001b[1m4/4\u001b[0m \u001b[32m━━━━━━━━━━━━━━━━━━━━\u001b[0m\u001b[37m\u001b[0m \u001b[1m0s\u001b[0m 9ms/step - accuracy: 0.9000 - loss: 0.5951 \n",
            "Epoch 8/20\n",
            "\u001b[1m4/4\u001b[0m \u001b[32m━━━━━━━━━━━━━━━━━━━━\u001b[0m\u001b[37m\u001b[0m \u001b[1m0s\u001b[0m 9ms/step - accuracy: 0.9000 - loss: 0.5888 \n",
            "Epoch 9/20\n",
            "\u001b[1m4/4\u001b[0m \u001b[32m━━━━━━━━━━━━━━━━━━━━\u001b[0m\u001b[37m\u001b[0m \u001b[1m0s\u001b[0m 9ms/step - accuracy: 0.5333 - loss: 0.6639     \n",
            "Epoch 10/20\n",
            "\u001b[1m4/4\u001b[0m \u001b[32m━━━━━━━━━━━━━━━━━━━━\u001b[0m\u001b[37m\u001b[0m \u001b[1m0s\u001b[0m 12ms/step - accuracy: 0.7333 - loss: 0.6018\n",
            "Epoch 11/20\n",
            "\u001b[1m4/4\u001b[0m \u001b[32m━━━━━━━━━━━━━━━━━━━━\u001b[0m\u001b[37m\u001b[0m \u001b[1m0s\u001b[0m 9ms/step - accuracy: 0.8333 - loss: 0.5888 \n",
            "Epoch 12/20\n",
            "\u001b[1m4/4\u001b[0m \u001b[32m━━━━━━━━━━━━━━━━━━━━\u001b[0m\u001b[37m\u001b[0m \u001b[1m0s\u001b[0m 9ms/step - accuracy: 0.5333 - loss: 0.6397     \n",
            "Epoch 13/20\n",
            "\u001b[1m4/4\u001b[0m \u001b[32m━━━━━━━━━━━━━━━━━━━━\u001b[0m\u001b[37m\u001b[0m \u001b[1m0s\u001b[0m 9ms/step - accuracy: 0.8333 - loss: 0.5646 \n",
            "Epoch 14/20\n",
            "\u001b[1m4/4\u001b[0m \u001b[32m━━━━━━━━━━━━━━━━━━━━\u001b[0m\u001b[37m\u001b[0m \u001b[1m0s\u001b[0m 10ms/step - accuracy: 0.5333 - loss: 0.6345    \n",
            "Epoch 15/20\n",
            "\u001b[1m4/4\u001b[0m \u001b[32m━━━━━━━━━━━━━━━━━━━━\u001b[0m\u001b[37m\u001b[0m \u001b[1m0s\u001b[0m 9ms/step - accuracy: 0.7333 - loss: 0.5736 \n",
            "Epoch 16/20\n",
            "\u001b[1m4/4\u001b[0m \u001b[32m━━━━━━━━━━━━━━━━━━━━\u001b[0m\u001b[37m\u001b[0m \u001b[1m0s\u001b[0m 9ms/step - accuracy: 0.5333 - loss: 0.6370     \n",
            "Epoch 17/20\n",
            "\u001b[1m4/4\u001b[0m \u001b[32m━━━━━━━━━━━━━━━━━━━━\u001b[0m\u001b[37m\u001b[0m \u001b[1m0s\u001b[0m 9ms/step - accuracy: 0.8333 - loss: 0.5197 \n",
            "Epoch 18/20\n",
            "\u001b[1m4/4\u001b[0m \u001b[32m━━━━━━━━━━━━━━━━━━━━\u001b[0m\u001b[37m\u001b[0m \u001b[1m0s\u001b[0m 10ms/step - accuracy: 0.8333 - loss: 0.5538\n",
            "Epoch 19/20\n",
            "\u001b[1m4/4\u001b[0m \u001b[32m━━━━━━━━━━━━━━━━━━━━\u001b[0m\u001b[37m\u001b[0m \u001b[1m0s\u001b[0m 10ms/step - accuracy: 0.8333 - loss: 0.5168\n",
            "Epoch 20/20\n",
            "\u001b[1m4/4\u001b[0m \u001b[32m━━━━━━━━━━━━━━━━━━━━\u001b[0m\u001b[37m\u001b[0m \u001b[1m0s\u001b[0m 10ms/step - accuracy: 0.9000 - loss: 0.5147\n",
            "\n",
            "آموزش مدل به پایان رسید!\n"
          ]
        }
      ]
    },
    {
      "cell_type": "code",
      "source": [
        "print(\"\\n--- ارزیابی مدل روی داده‌های آزمایشی ---\")\n",
        "\n",
        "# ارزیابی loss و accuracy روی مجموعه تست\n",
        "loss, accuracy = model.evaluate(X_test, y_test)\n",
        "\n",
        "print(f\"\\nدقت نهایی مدل روی داده‌های تست: {accuracy * 100:.2f}%\")"
      ],
      "metadata": {
        "colab": {
          "base_uri": "https://localhost:8080/"
        },
        "id": "XqLziIgLN8dd",
        "outputId": "42f8921a-5845-4a89-933b-164869624e10"
      },
      "id": "XqLziIgLN8dd",
      "execution_count": 64,
      "outputs": [
        {
          "output_type": "stream",
          "name": "stdout",
          "text": [
            "\n",
            "--- ارزیابی مدل روی داده‌های آزمایشی ---\n",
            "\u001b[1m1/1\u001b[0m \u001b[32m━━━━━━━━━━━━━━━━━━━━\u001b[0m\u001b[37m\u001b[0m \u001b[1m0s\u001b[0m 185ms/step - accuracy: 0.5000 - loss: 0.7312\n",
            "\n",
            "دقت نهایی مدل روی داده‌های تست: 50.00%\n"
          ]
        }
      ]
    },
    {
      "cell_type": "code",
      "source": [
        "# فرض کنید اطلاعات کارگر جدید به این صورت است:\n",
        "# سن: 40, شغل: جوشکار, سطح مواجهه: 1.1\n",
        "\n",
        "# 1. تبدیل به فرمت عددی و کدگذاری شده بر اساس ستون‌های قبلی\n",
        "# (فرض می‌کنیم ستون‌ها به ترتیب سن، سطح مواجهه، شغل جوشکار ::، شغل معدن و شغل نساج بودند)\n",
        "new_worker_data = np.array([[40.0, 1.1, 1.0, 0.0,0.0]])\n",
        "\n",
        "# 2. داده جدید را هم باید با همان scaler قبلی مقیاس‌بندی کنیم\n",
        "new_worker_scaled = scaler.transform(new_worker_data)\n",
        "\n",
        "# 3. انجام پیش‌بینی\n",
        "prediction = model.predict(new_worker_scaled)\n",
        "probability = prediction[0][0]\n",
        "\n",
        "print(f\"\\nخروجی خام مدل (احتمال بیماری): {probability:.4f}\")\n",
        "\n",
        "# 4. تفسیر نتیجه\n",
        "if probability > 0.5:\n",
        "    print(\"نتیجه پیش‌بینی: این کارگر در معرض خطر بیماری قرار دارد.\")\n",
        "else:\n",
        "    print(\"نتیجه پیش‌بینی: این کارگر در معرض خطر بیماری قرار ندارد.\")"
      ],
      "metadata": {
        "colab": {
          "base_uri": "https://localhost:8080/"
        },
        "id": "HGBJ7nEwOD2U",
        "outputId": "f116e5ea-2ef2-4147-9965-f397d5b495f5"
      },
      "id": "HGBJ7nEwOD2U",
      "execution_count": 72,
      "outputs": [
        {
          "output_type": "stream",
          "name": "stdout",
          "text": [
            "\u001b[1m1/1\u001b[0m \u001b[32m━━━━━━━━━━━━━━━━━━━━\u001b[0m\u001b[37m\u001b[0m \u001b[1m0s\u001b[0m 76ms/step\n",
            "\n",
            "خروجی خام مدل (احتمال بیماری): 0.5676\n",
            "نتیجه پیش‌بینی: این کارگر در معرض خطر بیماری قرار دارد.\n"
          ]
        },
        {
          "output_type": "stream",
          "name": "stderr",
          "text": [
            "/usr/local/lib/python3.11/dist-packages/sklearn/utils/validation.py:2739: UserWarning: X does not have valid feature names, but MinMaxScaler was fitted with feature names\n",
            "  warnings.warn(\n"
          ]
        }
      ]
    }
  ],
  "metadata": {
    "kernelspec": {
      "display_name": "Python 3",
      "language": "python",
      "name": "python3"
    },
    "language_info": {
      "name": "python",
      "version": "3.10.12",
      "mimetype": "text/x-python",
      "codemirror_mode": {
        "name": "ipython",
        "version": 3
      },
      "pygments_lexer": "ipython3",
      "nbconvert_exporter": "python",
      "file_extension": ".py"
    },
    "colab": {
      "provenance": [],
      "include_colab_link": true
    }
  },
  "nbformat": 4,
  "nbformat_minor": 5
}