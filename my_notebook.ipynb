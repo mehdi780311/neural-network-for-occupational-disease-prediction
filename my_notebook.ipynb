{
  "cells": [
    {
      "cell_type": "markdown",
      "metadata": {
        "id": "view-in-github",
        "colab_type": "text"
      },
      "source": [
        "<a href=\"https://colab.research.google.com/github/mehdi780311/neural-network-for-occupational-disease-prediction/blob/main/my_notebook.ipynb\" target=\"_parent\"><img src=\"https://colab.research.google.com/assets/colab-badge.svg\" alt=\"Open In Colab\"/></a>"
      ]
    },
    {
      "cell_type": "markdown",
      "source": [
        "1.وارد کردن کتابخانه‌های لازم"
      ],
      "metadata": {
        "id": "0UI1POR74rSR"
      },
      "id": "0UI1POR74rSR"
    },
    {
      "cell_type": "code",
      "source": [
        "import pandas as pd\n",
        "import numpy as np\n",
        "from sklearn.model_selection import train_test_split\n",
        "from sklearn.preprocessing import MinMaxScaler\n",
        "import tensorflow as tf\n",
        "from tensorflow import keras\n",
        "from keras import layers"
      ],
      "metadata": {
        "id": "k4xXhnnE4w_I"
      },
      "id": "k4xXhnnE4w_I",
      "execution_count": null,
      "outputs": []
    },
    {
      "cell_type": "markdown",
      "source": [
        "2. ساخت یک مجموعه داده نمونه با پانداز\n",
        "(در یک پروژه واقعی، این داده‌ها معمولا از یک فایل اکسل یا CSV خوانده می‌شود)"
      ],
      "metadata": {
        "id": "O1QsQeLc4-7W"
      },
      "id": "O1QsQeLc4-7W"
    },
    {
      "cell_type": "code",
      "source": [
        "data = {\n",
        "    'age': [25, 45, 38, 52, np.nan, 29], # np.nan یک مقدار گمشده است\n",
        "    'job_title': ['joshkar', 'nasaaj', 'kargar_madan', 'joshkar', 'nasaaj', 'kargar_madan'],\n",
        "    'exposure_level': [0.8, 1.2, 2.5, 0.9, 1.5, 2.8],\n",
        "    'has_disease': [0, 1, 1, 0, 1, 1] # 0 = سالم, 1 = بیمار\n",
        "}\n",
        "df = pd.DataFrame(data)\n",
        "\n",
        "print(\"--- داده‌های خام اولیه ---\")\n",
        "print(df)\n",
        "print(\"\\n\" + \"=\"*30 + \"\\n\")"
      ],
      "metadata": {
        "colab": {
          "base_uri": "https://localhost:8080/"
        },
        "id": "mqO9tVpp5A9_",
        "outputId": "90ecdcfe-1490-419e-b0a7-dfcf46724a41"
      },
      "id": "mqO9tVpp5A9_",
      "execution_count": null,
      "outputs": [
        {
          "output_type": "stream",
          "name": "stdout",
          "text": [
            "--- داده‌های خام اولیه ---\n",
            "    age     job_title  exposure_level  has_disease\n",
            "0  25.0       joshkar             0.8            0\n",
            "1  45.0        nasaaj             1.2            1\n",
            "2  38.0  kargar_madan             2.5            1\n",
            "3  52.0       joshkar             0.9            0\n",
            "4   NaN        nasaaj             1.5            1\n",
            "5  29.0  kargar_madan             2.8            1\n",
            "\n",
            "==============================\n",
            "\n"
          ]
        }
      ]
    },
    {
      "cell_type": "markdown",
      "source": [
        "**شروع مراحل پیش‌پردازش **"
      ],
      "metadata": {
        "id": "Ml0aPGDk5aed"
      },
      "id": "Ml0aPGDk5aed"
    },
    {
      "cell_type": "markdown",
      "source": [
        "3. مدیریت مقادیر گمشده: سن خالی را با میانگین سن بقیه پر می‌کنیم"
      ],
      "metadata": {
        "id": "gxd0QBd350Qt"
      },
      "id": "gxd0QBd350Qt"
    },
    {
      "cell_type": "code",
      "source": [
        "mean_age = df['age'].mean()\n",
        "df['age'].fillna(mean_age, inplace=True)\n",
        "df['age'] = df['age'].astype(int)"
      ],
      "metadata": {
        "colab": {
          "base_uri": "https://localhost:8080/"
        },
        "id": "YUWp-m8B5zvt",
        "outputId": "bbda96e9-05c0-4fa2-a3f3-cc0405ec8e76"
      },
      "id": "YUWp-m8B5zvt",
      "execution_count": null,
      "outputs": [
        {
          "output_type": "stream",
          "name": "stderr",
          "text": [
            "/tmp/ipython-input-913701135.py:2: FutureWarning: A value is trying to be set on a copy of a DataFrame or Series through chained assignment using an inplace method.\n",
            "The behavior will change in pandas 3.0. This inplace method will never work because the intermediate object on which we are setting values always behaves as a copy.\n",
            "\n",
            "For example, when doing 'df[col].method(value, inplace=True)', try using 'df.method({col: value}, inplace=True)' or df[col] = df[col].method(value) instead, to perform the operation inplace on the original object.\n",
            "\n",
            "\n",
            "  df['age'].fillna(mean_age, inplace=True)\n"
          ]
        }
      ]
    },
    {
      "cell_type": "markdown",
      "source": [
        "4. کدگذاری داده‌های متنی: ستون شغل را به ستون‌های عددی تبدیل می‌کنیم"
      ],
      "metadata": {
        "id": "xnvAcLY572tq"
      },
      "id": "xnvAcLY572tq"
    },
    {
      "cell_type": "code",
      "source": [
        "df_encoded = pd.get_dummies(df, columns=['job_title'], drop_first=True)\n",
        "\n",
        "print(\"--- داده‌های تمیز و کدگذاری شده ---\")\n",
        "print(df_encoded)\n",
        "print(\"\\n\" + \"=\"*30 + \"\\n\")"
      ],
      "metadata": {
        "colab": {
          "base_uri": "https://localhost:8080/"
        },
        "id": "A6ECeW4979rK",
        "outputId": "40092b7b-9ca5-4fa7-b016-8492fdaa1f18"
      },
      "id": "A6ECeW4979rK",
      "execution_count": null,
      "outputs": [
        {
          "output_type": "stream",
          "name": "stdout",
          "text": [
            "--- داده‌های تمیز و کدگذاری شده ---\n",
            "   age  exposure_level  has_disease  job_title_kargar_madan  job_title_nasaaj\n",
            "0   25             0.8            0                   False             False\n",
            "1   45             1.2            1                   False              True\n",
            "2   38             2.5            1                    True             False\n",
            "3   52             0.9            0                   False             False\n",
            "4   37             1.5            1                   False              True\n",
            "5   29             2.8            1                    True             False\n",
            "\n",
            "==============================\n",
            "\n"
          ]
        }
      ]
    },
    {
      "cell_type": "markdown",
      "source": [
        "5. جدا کردن ویژگی‌ها (X) از ستون هدف (y)"
      ],
      "metadata": {
        "id": "pU7U3qwJ_nO1"
      },
      "id": "pU7U3qwJ_nO1"
    },
    {
      "cell_type": "code",
      "metadata": {
        "id": "A6ECe4979rK"
      },
      "source": [
        "X = df_encoded.drop('has_disease', axis=1)\n",
        "y = df_encoded['has_disease']"
      ],
      "id": "A6ECe4979rK",
      "execution_count": null,
      "outputs": []
    },
    {
      "cell_type": "markdown",
      "source": [
        "6. مقیاس‌بندی ویژگی‌ها (X) در بازه 0 تا 1"
      ],
      "metadata": {
        "id": "pZ2mHF_v_28M"
      },
      "id": "pZ2mHF_v_28M"
    },
    {
      "cell_type": "code",
      "source": [
        "scaler = MinMaxScaler()\n",
        "X_scaled = scaler.fit_transform(X)\n",
        "print(X_scaled)"
      ],
      "metadata": {
        "colab": {
          "base_uri": "https://localhost:8080/"
        },
        "id": "LTjU954a_4R_",
        "outputId": "7d9fe052-d7bf-4561-dcb3-e05371bf82d9"
      },
      "id": "LTjU954a_4R_",
      "execution_count": null,
      "outputs": [
        {
          "output_type": "stream",
          "name": "stdout",
          "text": [
            "[[0.         0.         1.         0.         0.        ]\n",
            " [0.74074074 0.2        0.         0.         1.        ]\n",
            " [0.48148148 0.85       0.         1.         0.        ]\n",
            " [1.         0.05       1.         0.         0.        ]\n",
            " [0.44444444 0.35       0.         0.         1.        ]\n",
            " [0.14814815 1.         0.         1.         0.        ]]\n"
          ]
        }
      ]
    },
    {
      "cell_type": "markdown",
      "source": [
        " 7. تقسیم نهایی داده به دو بخش آموزشی و آزمایشی\n",
        "70% برای آموزش، 30% برای تست"
      ],
      "metadata": {
        "id": "wP7JsTO4AIk7"
      },
      "id": "wP7JsTO4AIk7"
    },
    {
      "cell_type": "code",
      "source": [
        "X_train, X_test, y_train, y_test = train_test_split(X_scaled, y, test_size=0.3, random_state=42)\n",
        "print(f\"تعداد نمونه‌های آموزشی: {X_train.shape[0]}\")\n",
        "print(f\"تعداد نمونه‌های آزمایشی: {X_test.shape[0]}\")"
      ],
      "metadata": {
        "colab": {
          "base_uri": "https://localhost:8080/"
        },
        "id": "oJSJJYAVAOdE",
        "outputId": "3dddc43d-3e20-4bd9-8d6f-ed641e7b5907"
      },
      "id": "oJSJJYAVAOdE",
      "execution_count": null,
      "outputs": [
        {
          "output_type": "stream",
          "name": "stdout",
          "text": [
            "تعداد نمونه‌های آموزشی: 4\n",
            "تعداد نمونه‌های آزمایشی: 2\n"
          ]
        }
      ]
    },
    {
      "cell_type": "markdown",
      "source": [
        " ساخت یک مدل ترتیبی (Sequential) خالی\n",
        " این مدل در حال حاضر مثل یک ظرف خالی است که باید لایه‌ها را به آن اضافه کنیم"
      ],
      "metadata": {
        "id": "cfJOjS0_Ac-j"
      },
      "id": "cfJOjS0_Ac-j"
    },
    {
      "cell_type": "code",
      "source": [
        "model = keras.Sequential()\n",
        "print(\"مدل Sequential با موفقیت ساخته شد! این مدل فعلاً خالی است.\")"
      ],
      "metadata": {
        "colab": {
          "base_uri": "https://localhost:8080/"
        },
        "id": "CeOcezLuAzT6",
        "outputId": "f3e57d46-292c-41ad-b8b9-e5a9335c0a13"
      },
      "id": "CeOcezLuAzT6",
      "execution_count": null,
      "outputs": [
        {
          "output_type": "stream",
          "name": "stdout",
          "text": [
            "مدل Sequential با موفقیت ساخته شد! این مدل فعلاً خالی است.\n"
          ]
        }
      ]
    }
  ],
  "metadata": {
    "kernelspec": {
      "display_name": "Python 3",
      "language": "python",
      "name": "python3"
    },
    "language_info": {
      "name": "python",
      "version": "3.10.12",
      "mimetype": "text/x-python",
      "codemirror_mode": {
        "name": "ipython",
        "version": 3
      },
      "pygments_lexer": "ipython3",
      "nbconvert_exporter": "python",
      "file_extension": ".py"
    },
    "colab": {
      "provenance": [],
      "include_colab_link": true
    }
  },
  "nbformat": 4,
  "nbformat_minor": 5
}